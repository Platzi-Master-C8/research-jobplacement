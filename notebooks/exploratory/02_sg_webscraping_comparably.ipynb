{
  "nbformat": 4,
  "nbformat_minor": 0,
  "metadata": {
    "colab": {
      "name": "web_scraping_comparably.ipynb",
      "provenance": []
    },
    "kernelspec": {
      "name": "python3",
      "display_name": "Python 3"
    },
    "language_info": {
      "name": "python"
    }
  },
  "cells": [
    {
      "cell_type": "code",
      "metadata": {
        "colab": {
          "base_uri": "https://localhost:8080/"
        },
        "id": "itW2LsZaqxmM",
        "outputId": "ce315fc1-0824-4679-e906-ede3c48f8465"
      },
      "source": [
        "!pip install pyppeteer nest_asyncio asyncio pyyaml\n",
        "!apt install chromium-chromedriver"
      ],
      "execution_count": null,
      "outputs": [
        {
          "output_type": "stream",
          "name": "stdout",
          "text": [
            "Requirement already satisfied: pyppeteer in /usr/local/lib/python3.7/dist-packages (0.2.6)\n",
            "Requirement already satisfied: nest_asyncio in /usr/local/lib/python3.7/dist-packages (1.5.1)\n",
            "Requirement already satisfied: asyncio in /usr/local/lib/python3.7/dist-packages (3.4.3)\n",
            "Requirement already satisfied: pyyaml in /usr/local/lib/python3.7/dist-packages (3.13)\n",
            "Requirement already satisfied: pyee<9.0.0,>=8.1.0 in /usr/local/lib/python3.7/dist-packages (from pyppeteer) (8.2.2)\n",
            "Requirement already satisfied: appdirs<2.0.0,>=1.4.3 in /usr/local/lib/python3.7/dist-packages (from pyppeteer) (1.4.4)\n",
            "Requirement already satisfied: websockets<10.0,>=9.1 in /usr/local/lib/python3.7/dist-packages (from pyppeteer) (9.1)\n",
            "Requirement already satisfied: urllib3<2.0.0,>=1.25.8 in /usr/local/lib/python3.7/dist-packages (from pyppeteer) (1.26.7)\n",
            "Requirement already satisfied: importlib-metadata>=1.4 in /usr/local/lib/python3.7/dist-packages (from pyppeteer) (4.8.2)\n",
            "Requirement already satisfied: tqdm<5.0.0,>=4.42.1 in /usr/local/lib/python3.7/dist-packages (from pyppeteer) (4.62.3)\n",
            "Requirement already satisfied: zipp>=0.5 in /usr/local/lib/python3.7/dist-packages (from importlib-metadata>=1.4->pyppeteer) (3.6.0)\n",
            "Requirement already satisfied: typing-extensions>=3.6.4 in /usr/local/lib/python3.7/dist-packages (from importlib-metadata>=1.4->pyppeteer) (3.10.0.2)\n",
            "Reading package lists... Done\n",
            "Building dependency tree       \n",
            "Reading state information... Done\n",
            "chromium-chromedriver is already the newest version (95.0.4638.69-0ubuntu0.18.04.1).\n",
            "0 upgraded, 0 newly installed, 0 to remove and 37 not upgraded.\n"
          ]
        }
      ]
    },
    {
      "cell_type": "code",
      "metadata": {
        "id": "A9oJNFoKoj9Z",
        "colab": {
          "base_uri": "https://localhost:8080/"
        },
        "outputId": "aaf7fdb6-4a05-471c-a152-9a2bcb34aded"
      },
      "source": [
        "# Request\n",
        "import requests\n",
        "\n",
        "# Pandas\n",
        "import pandas as pd\n",
        "\n",
        "# nest_asyncio\n",
        "import nest_asyncio\n",
        "import asyncio\n",
        "\n",
        "# PyYaml\n",
        "import yaml\n",
        "\n",
        "# Python\n",
        "from time import sleep\n",
        "\n",
        "# Pyppeteer\n",
        "from pyppeteer import launch\n",
        "\n",
        "# BeautifulSoup\n",
        "from bs4 import BeautifulSoup\n",
        "\n",
        "# Google Drive\n",
        "from google.colab import drive\n",
        "drive.mount('/content/gdrive')"
      ],
      "execution_count": null,
      "outputs": [
        {
          "output_type": "stream",
          "name": "stdout",
          "text": [
            "Drive already mounted at /content/gdrive; to attempt to forcibly remount, call drive.mount(\"/content/gdrive\", force_remount=True).\n"
          ]
        }
      ]
    },
    {
      "cell_type": "code",
      "metadata": {
        "id": "53epP6oXW68T"
      },
      "source": [
        "class ComparablyWebScraping:\n",
        "\n",
        "    def __init__(self):\n",
        "      self.url = 'https://www.comparably.com/companies'\n",
        "      self.browser = None\n",
        "      self.page = None\n",
        "      self.__config = None\n",
        " \n",
        "\n",
        "    def config(self):\n",
        "        if not self.__config:\n",
        "            with open('/content/gdrive/MyDrive/config.yaml', mode='r') as f:\n",
        "                self.__config = yaml.load(f)\n",
        "        return self.__config\n",
        "\n",
        "    async def get_browser(self):\n",
        "        return await launch(executablePath=\"/usr/lib/chromium-browser/chromium-browser\", args=['--no-sandbox'])\n",
        "\n",
        "    async def close_browser(self):\n",
        "        return await self.browser.close()\n",
        "\n",
        "    async def _page_evaluate(self, query: str):\n",
        "        query_result = await self.page.evaluate(\n",
        "            pageFunction=query,\n",
        "            force_expr=True\n",
        "        )\n",
        "        return query_result\n",
        "\n",
        "    async def get_companies_most_rated(self) -> list:\n",
        "        config_yml = self.config()['job_sites']['comparably']['queries']\n",
        "        self.browser = await self.get_browser()\n",
        "        self.page = await self.browser.newPage()\n",
        "        await self.page.goto(self.url)\n",
        "        await self.page.click('a.mostRated')\n",
        "        await asyncio.sleep(1)\n",
        "        company_list = await self._page_evaluate(query=config_yml['companies_links'])\n",
        "        soup = BeautifulSoup(company_list)\n",
        "        company_links = [i['href'] for i in soup.find_all(class_='companyLink')]\n",
        "        return company_links\n",
        "\n",
        "\n",
        "    async def search_data(self, url: str) -> dict:\n",
        "        config_yml = self.config()['job_sites']['comparably']['queries']\n",
        "        company_info = {\n",
        "          'company_name': await self._page_evaluate(query=config_yml['company_name']),\n",
        "          'ceo': await self._page_evaluate(query=config_yml['ceo_name']),\n",
        "          'ceo_score': await self._page_evaluate(query=config_yml['ceo_score']),\n",
        "          'employee_participants': await self._page_evaluate(query=config_yml['employee_participants']),\n",
        "          'total_ratings': await self._page_evaluate(query=config_yml['total_ratings']),\n",
        "          'culture_score': await self._page_evaluate(query=config_yml['culture_score']),\n",
        "        }\n",
        "\n",
        "        await self.page.goto(f'{url}/reviews')\n",
        "        await asyncio.sleep(1)\n",
        "        score_info = {\n",
        "          'score_positive_reviews': await self._page_evaluate(query=config_yml['score_positive_reviews']),\n",
        "          'score_negative_reviews': await self._page_evaluate(query=config_yml['score_negative_reviews']),\n",
        "        }\n",
        "\n",
        "        cleaned_data =  {**company_info, **score_info}\n",
        "        print(cleaned_data)\n",
        "        return cleaned_data\n",
        "\n",
        "    async def get_company_reputation(self, companies_urls: list) -> list:\n",
        "        self.page = await self.browser.newPage()\n",
        "        data = []\n",
        "        for url in companies_urls:\n",
        "          await self.page.goto(url)\n",
        "          await asyncio.sleep(1)\n",
        "          data.append(await self.search_data(url))\n",
        "        await self.close_browser()\n",
        "        return data"
      ],
      "execution_count": null,
      "outputs": []
    },
    {
      "cell_type": "code",
      "metadata": {
        "colab": {
          "base_uri": "https://localhost:8080/"
        },
        "id": "gHuTph6h-DSx",
        "outputId": "57c0e9e9-f33d-4c6d-9c36-7e88ad07d87a"
      },
      "source": [
        "async def main():\n",
        "    scraping_comparably = ComparablyWebScraping()\n",
        "\n",
        "    links = await scraping_comparably.get_companies_most_rated()\n",
        "    data = await scraping_comparably.get_company_reputation(links)\n",
        "    df = pd.DataFrame(data)\n",
        "    df\n",
        "\n",
        "nest_asyncio.apply()\n",
        "asyncio.get_event_loop().run_until_complete(main())"
      ],
      "execution_count": null,
      "outputs": [
        {
          "output_type": "stream",
          "name": "stdout",
          "text": [
            "{'company_name': 'Amazon', 'ceo': 'Andy Jassy', 'ceo_score': '74 /100', 'employee_participants': '7953', 'total_ratings': '102767', 'culture_score': '4.5/5', 'score_positive_reviews': '78%', 'score_negative_reviews': '22%'}\n",
            "{'company_name': 'Walmart', 'ceo': 'Doug McMillon', 'ceo_score': '62 /100', 'employee_participants': '6011', 'total_ratings': '97797', 'culture_score': '3.2/5', 'score_positive_reviews': '67%', 'score_negative_reviews': '33%'}\n",
            "{'company_name': 'IBM', 'ceo': 'Arvind Krishna', 'ceo_score': '86 /100', 'employee_participants': '3055', 'total_ratings': '83489', 'culture_score': '4.9/5', 'score_positive_reviews': '89%', 'score_negative_reviews': '11%'}\n",
            "{'company_name': 'Google', 'ceo': 'Sundar Pichai', 'ceo_score': '81 /100', 'employee_participants': '4123', 'total_ratings': '61725', 'culture_score': '4.7/5', 'score_positive_reviews': '85%', 'score_negative_reviews': '15%'}\n",
            "{'company_name': 'XPO Logistics', 'ceo': 'Bradley Jacobs', 'ceo_score': '82 /100', 'employee_participants': '2018', 'total_ratings': '57714', 'culture_score': '4.6/5', 'score_positive_reviews': '85%', 'score_negative_reviews': '15%'}\n",
            "{'company_name': \"McDonald's\", 'ceo': 'Chris Kempczinski', 'ceo_score': '65 /100', 'employee_participants': '2667', 'total_ratings': '42727', 'culture_score': '3.3/5', 'score_positive_reviews': '67%', 'score_negative_reviews': '33%'}\n",
            "{'company_name': 'RingCentral', 'ceo': 'Vladimir Shmunis', 'ceo_score': '92 /100', 'employee_participants': '1425', 'total_ratings': '42522', 'culture_score': '4.9/5', 'score_positive_reviews': '95%', 'score_negative_reviews': '5%'}\n",
            "{'company_name': 'TaskUs', 'ceo': 'Bryce Maddock', 'ceo_score': '96 /100', 'employee_participants': '1409', 'total_ratings': '41308', 'culture_score': '4.9/5', 'score_positive_reviews': '95%', 'score_negative_reviews': '5%'}\n",
            "{'company_name': 'Microsoft', 'ceo': 'Satya Nadella', 'ceo_score': '83 /100', 'employee_participants': '2549', 'total_ratings': '40481', 'culture_score': '4.6/5', 'score_positive_reviews': '79%', 'score_negative_reviews': '21%'}\n",
            "{'company_name': 'HubSpot', 'ceo': 'Yamini Rangan', 'ceo_score': '93 /100', 'employee_participants': '1623', 'total_ratings': '37577', 'culture_score': '4.9/5', 'score_positive_reviews': '94%', 'score_negative_reviews': '6%'}\n",
            "{'company_name': 'Meta', 'ceo': 'Mark Zuckerberg', 'ceo_score': '80 /100', 'employee_participants': '2366', 'total_ratings': '36516', 'culture_score': '4.7/5', 'score_positive_reviews': '84%', 'score_negative_reviews': '16%'}\n",
            "{'company_name': 'Sitel Group', 'ceo': 'Laurent Uberti', 'ceo_score': '86 /100', 'employee_participants': '1245', 'total_ratings': '36124', 'culture_score': '4.9/5', 'score_positive_reviews': '86%', 'score_negative_reviews': '14%'}\n",
            "{'company_name': 'Target', 'ceo': 'Brian Cornell', 'ceo_score': '67 /100', 'employee_participants': '2266', 'total_ratings': '35413', 'culture_score': '3.8/5', 'score_positive_reviews': '69%', 'score_negative_reviews': '31%'}\n",
            "{'company_name': 'Dynatrace', 'ceo': 'John Van Siclen', 'ceo_score': '88 /100', 'employee_participants': '1010', 'total_ratings': '35332', 'culture_score': '4.7/5', 'score_positive_reviews': '94%', 'score_negative_reviews': '6%'}\n",
            "{'company_name': 'UPS', 'ceo': 'Carol B. Tomé', 'ceo_score': '68 /100', 'employee_participants': '2460', 'total_ratings': '33294', 'culture_score': '3.4/5', 'score_positive_reviews': '54%', 'score_negative_reviews': '46%'}\n",
            "{'company_name': 'Enshored', 'ceo': 'Ian Jackson', 'ceo_score': '92 /100', 'employee_participants': '1844', 'total_ratings': '33144', 'culture_score': '4.9/5', 'score_positive_reviews': '92%', 'score_negative_reviews': '8%'}\n",
            "{'company_name': 'The Home Depot', 'ceo': 'Craig Menear', 'ceo_score': '77 /100', 'employee_participants': '2031', 'total_ratings': '32934', 'culture_score': '4.5/5', 'score_positive_reviews': '78%', 'score_negative_reviews': '22%'}\n",
            "{'company_name': 'Fanatics', 'ceo': 'Doug Mack', 'ceo_score': '87 /100', 'employee_participants': '1178', 'total_ratings': '30799', 'culture_score': '4.6/5', 'score_positive_reviews': '83%', 'score_negative_reviews': '17%'}\n",
            "{'company_name': 'Insight Global', 'ceo': 'Bert Bean', 'ceo_score': '98 /100', 'employee_participants': '848', 'total_ratings': '25899', 'culture_score': '4.9/5', 'score_positive_reviews': '96%', 'score_negative_reviews': '4%'}\n",
            "{'company_name': 'Stanley Black & Decker', 'ceo': 'Jim Loree', 'ceo_score': '85 /100', 'employee_participants': '833', 'total_ratings': '25652', 'culture_score': '4.6/5', 'score_positive_reviews': '89%', 'score_negative_reviews': '11%'}\n",
            "{'company_name': 'Asurion', 'ceo': 'Tony Detter', 'ceo_score': '86 /100', 'employee_participants': '816', 'total_ratings': '23382', 'culture_score': '4.9/5', 'score_positive_reviews': '90%', 'score_negative_reviews': '10%'}\n",
            "{'company_name': 'FedEx', 'ceo': 'Frederick Smith', 'ceo_score': '74 /100', 'employee_participants': '1673', 'total_ratings': '23375', 'culture_score': '4.2/5', 'score_positive_reviews': '67%', 'score_negative_reviews': '33%'}\n",
            "{'company_name': 'Northside Hospital', 'ceo': 'Robert Quattrocchi', 'ceo_score': '86 /100', 'employee_participants': '741', 'total_ratings': '23157', 'culture_score': '4.9/5', 'score_positive_reviews': '92%', 'score_negative_reviews': '8%'}\n",
            "{'company_name': 'Elsevier', 'ceo': 'Kumsal Bayazit', 'ceo_score': '91 /100', 'employee_participants': '795', 'total_ratings': '22909', 'culture_score': '4.9/5', 'score_positive_reviews': '92%', 'score_negative_reviews': '8%'}\n",
            "{'company_name': 'Adobe', 'ceo': 'Shantanu Narayen', 'ceo_score': '94 /100', 'employee_participants': '896', 'total_ratings': '22673', 'culture_score': '4.9/5', 'score_positive_reviews': '96%', 'score_negative_reviews': '4%'}\n",
            "{'company_name': 'Trimble', 'ceo': 'Robert G. Painter', 'ceo_score': '89 /100', 'employee_participants': '677', 'total_ratings': '21815', 'culture_score': '4.7/5', 'score_positive_reviews': '90%', 'score_negative_reviews': '10%'}\n",
            "{'company_name': 'Smartsheet', 'ceo': 'Mark Mader', 'ceo_score': '92 /100', 'employee_participants': '584', 'total_ratings': '21547', 'culture_score': '4.7/5', 'score_positive_reviews': '95%', 'score_negative_reviews': '5%'}\n",
            "{'company_name': 'KeepTruckin', 'ceo': 'Shoaib Makani', 'ceo_score': '91 /100', 'employee_participants': '728', 'total_ratings': '21128', 'culture_score': '4.7/5', 'score_positive_reviews': '92%', 'score_negative_reviews': '8%'}\n",
            "{'company_name': 'Vector Marketing', 'ceo': 'Albert DiLeonardo', 'ceo_score': '96 /100', 'employee_participants': '655', 'total_ratings': '19852', 'culture_score': '4.9/5', 'score_positive_reviews': '98%', 'score_negative_reviews': '2%'}\n",
            "{'company_name': 'Apple', 'ceo': 'Timothy Cook', 'ceo_score': '80 /100', 'employee_participants': '1430', 'total_ratings': '19821', 'culture_score': '4.3/5', 'score_positive_reviews': '75%', 'score_negative_reviews': '25%'}\n",
            "              company_name  ... score_negative_reviews\n",
            "0                   Amazon  ...                    22%\n",
            "1                  Walmart  ...                    33%\n",
            "2                      IBM  ...                    11%\n",
            "3                   Google  ...                    15%\n",
            "4            XPO Logistics  ...                    15%\n",
            "5               McDonald's  ...                    33%\n",
            "6              RingCentral  ...                     5%\n",
            "7                   TaskUs  ...                     5%\n",
            "8                Microsoft  ...                    21%\n",
            "9                  HubSpot  ...                     6%\n",
            "10                    Meta  ...                    16%\n",
            "11             Sitel Group  ...                    14%\n",
            "12                  Target  ...                    31%\n",
            "13               Dynatrace  ...                     6%\n",
            "14                     UPS  ...                    46%\n",
            "15                Enshored  ...                     8%\n",
            "16          The Home Depot  ...                    22%\n",
            "17                Fanatics  ...                    17%\n",
            "18          Insight Global  ...                     4%\n",
            "19  Stanley Black & Decker  ...                    11%\n",
            "20                 Asurion  ...                    10%\n",
            "21                   FedEx  ...                    33%\n",
            "22      Northside Hospital  ...                     8%\n",
            "23                Elsevier  ...                     8%\n",
            "24                   Adobe  ...                     4%\n",
            "25                 Trimble  ...                    10%\n",
            "26              Smartsheet  ...                     5%\n",
            "27             KeepTruckin  ...                     8%\n",
            "28        Vector Marketing  ...                     2%\n",
            "29                   Apple  ...                    25%\n",
            "\n",
            "[30 rows x 8 columns]\n"
          ]
        }
      ]
    }
  ]
}